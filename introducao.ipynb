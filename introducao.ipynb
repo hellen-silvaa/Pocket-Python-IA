{
 "cells": [
  {
   "cell_type": "code",
   "execution_count": null,
   "id": "6f72dc83",
   "metadata": {},
   "outputs": [],
   "source": [
    "/pip install ipykernel"
   ]
  },
  {
   "cell_type": "code",
   "execution_count": 4,
   "id": "29c7361f",
   "metadata": {},
   "outputs": [
    {
     "name": "stdout",
     "output_type": "stream",
     "text": [
      " Hello! I will introduce wyself. \n",
      " Name: 1 \n",
      " Age: 2 \n",
      " Job: 3 \n",
      " Adress: 4 \n",
      " Place of Birth: 5\n"
     ]
    }
   ],
   "source": [
    "name = input(\"Digite seu nome: \")\n",
    "age = int(input(\"Digite a sua idade: \"))\n",
    "job = input(\"Digite o seu cargo: \")\n",
    "address = input(\"Digite o seu endereço atual: \")\n",
    "placeOfBirth = input(\"Digite o seu socal de nascimento\")\n",
    "\n",
    "print(f\" Hello! I will introduce wyself. \\n Name: {name} \\n Age: {age} \\n Job: {job} \\n Adress: {address} \\n Place of Birth: {placeOfBirth}\")\n"
   ]
  },
  {
   "cell_type": "code",
   "execution_count": 5,
   "id": "4b05da1e",
   "metadata": {},
   "outputs": [
    {
     "name": "stdout",
     "output_type": "stream",
     "text": [
      "Raio 4.0\n",
      "Área 50.24\n",
      "Circunferência 25.12\n"
     ]
    }
   ],
   "source": [
    "#defina a variável como um raio\n",
    "radius = 4.0\n",
    "\n",
    "#exibir raio, área e circunferência do circulo\n",
    "print(\"Raio\", radius)\n",
    "print('Área', 3.14*radius*radius) #Aplique a fórmula para resolver a área de um círculo\n",
    "print('Circunferência', 2.0*3.14*radius) #Aplique a fórmula para resolver a circunferência do círculo"
   ]
  },
  {
   "cell_type": "code",
   "execution_count": null,
   "id": "03fd25c3",
   "metadata": {},
   "outputs": [
    {
     "name": "stdout",
     "output_type": "stream",
     "text": [
      "[0, 1, 0]\n",
      "[1, 0, 1]\n",
      "[0, 1, 0]\n"
     ]
    }
   ],
   "source": [
    "'''Os códigos Python são executados em sequência. Imagine a caixa 3x3 abaixo. A partir da primeira caixa, cada caixa é colorida de acordo com o comando abaixo. Um dos muitos algoritmos possíveis é mostrado abaixo. '''\n",
    "\n",
    "# primeiro criar uma matriz 3x0 vazia\n",
    "matriz = [[0, 0, 0],\n",
    "          [0, 0, 0],\n",
    "          [0, 0, 0]]\n",
    "\n",
    "#pensar na posição inicial do cursor coluna 0 e linha 0\n",
    "posicao = [0, 0]\n",
    "\n",
    "#função para mover o cursor\n",
    "def preencher_vaziu():\n",
    "    linha, coluna = posicao[0], posicao[1] \n",
    "    matriz[linha][coluna] = 1 # 1 = preenchido\n",
    "\n",
    "#função para movimentar o cursor\n",
    "def mover(direcao):\n",
    "    if direcao == 'direita': # vai para direita sem ultrapassar a matriz\n",
    "        if posicao[1] <2:\n",
    "            posicao[1] += 1 # vai 1 coluna para direita\n",
    "    elif direcao == 'esquerda': # se for para esquerda e nao sair da matrix\n",
    "        if posicao[1] > 0:\n",
    "            posicao[1] -= 1 # vai 1 coluna para esquerda\n",
    "    elif direcao == 'baixo': #se for para baixo e não sair da matriz\n",
    "        if posicao[0] < 2:\n",
    "            posicao[0] += 1 # vai uma linha para baixo\n",
    "\n",
    "\n",
    "#sequencia que o cursor vai seguir \n",
    "passos_Cursor = [ \n",
    "    ('mover', 'direita'),\n",
    "    ('preencher', None),\n",
    "    ('mover', 'direita'),\n",
    "    ('mover', 'baixo'),\n",
    "    ('preencher', None),\n",
    "    ('mover', 'esquerda'),\n",
    "    ('mover', 'esquerda'),\n",
    "    ('preencher', None),\n",
    "    ('mover', 'baixo'),\n",
    "    ('mover', 'direita'),\n",
    "    ('preencher', None),\n",
    "    ('mover', 'direita')\n",
    "]\n",
    "\n",
    "# executa todas as instruçoes\n",
    "for acao, valor in passos_Cursor:\n",
    "    if acao == 'mover':\n",
    "        mover(valor)\n",
    "    else:  # 'preencher'\n",
    "         preencher_vaziu()\n",
    "\n",
    "# mostra o tabuleiro final\n",
    "for linha in matriz:\n",
    "    print(linha)"
   ]
  },
  {
   "cell_type": "code",
   "execution_count": null,
   "id": "44f8ac84",
   "metadata": {},
   "outputs": [],
   "source": [
    "'''Q2. \n",
    "Começando com a primeira caixa no canto superior esquerdo, mova um espaço de cada vez e preencha as caixas como abaixo. Pense na maneira mais eficiente de executar.'''\n"
   ]
  },
  {
   "cell_type": "code",
   "execution_count": null,
   "id": "8f44344a",
   "metadata": {},
   "outputs": [],
   "source": [
    "#Missão: Criação de um currículo\n",
    "print('****************************************************')\n",
    "\n",
    "print('Olá! Deixe eu me apresentar.')\n",
    "print('Nome: David Silva')\n",
    "print('Idade: 23')\n",
    "print('Emprego: Cientista de Dados')\n",
    "print('Endereço: Rio de Janeiro, Brasil')\n",
    "print('Local de Nascimento: Rio de Janeiro, Brasil')\n",
    "\n",
    "print('----------------------------------------------------')"
   ]
  },
  {
   "cell_type": "code",
   "execution_count": null,
   "id": "198c14bd",
   "metadata": {},
   "outputs": [
    {
     "name": "stdout",
     "output_type": "stream",
     "text": [
      "    *\n",
      "   ***\n",
      "  *****\n",
      "*********\n",
      "  *****\n",
      "   ***\n",
      "    *\n"
     ]
    }
   ],
   "source": [
    "#\n",
    "'''Q1. \n",
    "Faça um código com sete linhas de print() que funcionam para produzir um resultado como abaixo.\n",
    "*\n",
    "\n",
    "***\n",
    "\n",
    "*****\n",
    "\n",
    "*********\n",
    "\n",
    "*****\n",
    "\n",
    "***\n",
    "\n",
    "*\n",
    "Pergunta de amostra do Teste de Qualificação de SW da Samsung'''\n",
    "\n",
    "print('    *')\n",
    "print('   ***')\n",
    "print('  *****')\n",
    "print('*********')\n",
    "print('  *****')\n",
    "print('   ***')\n",
    "print('    *')"
   ]
  },
  {
   "cell_type": "code",
   "execution_count": 12,
   "id": "37d0e993",
   "metadata": {},
   "outputs": [
    {
     "name": "stdout",
     "output_type": "stream",
     "text": [
      "Collecting sympy\n",
      "  Obtaining dependency information for sympy from https://files.pythonhosted.org/packages/a2/09/77d55d46fd61b4a135c444fc97158ef34a095e5681d0a6c10b75bf356191/sympy-1.14.0-py3-none-any.whl.metadata\n",
      "  Downloading sympy-1.14.0-py3-none-any.whl.metadata (12 kB)\n",
      "Collecting mpmath<1.4,>=1.1.0 (from sympy)\n",
      "  Obtaining dependency information for mpmath<1.4,>=1.1.0 from https://files.pythonhosted.org/packages/43/e3/7d92a15f894aa0c9c4b49b8ee9ac9850d6e63b03c9c32c0367a13ae62209/mpmath-1.3.0-py3-none-any.whl.metadata\n",
      "  Downloading mpmath-1.3.0-py3-none-any.whl.metadata (8.6 kB)\n",
      "Downloading sympy-1.14.0-py3-none-any.whl (6.3 MB)\n",
      "   ---------------------------------------- 0.0/6.3 MB ? eta -:--:--\n",
      "   ---------------------------------------- 0.0/6.3 MB ? eta -:--:--\n",
      "    --------------------------------------- 0.1/6.3 MB 1.1 MB/s eta 0:00:06\n",
      "   - -------------------------------------- 0.3/6.3 MB 2.2 MB/s eta 0:00:03\n",
      "   --- ------------------------------------ 0.5/6.3 MB 2.7 MB/s eta 0:00:03\n",
      "   ---- ----------------------------------- 0.7/6.3 MB 3.4 MB/s eta 0:00:02\n",
      "   ------ --------------------------------- 1.0/6.3 MB 3.8 MB/s eta 0:00:02\n",
      "   ------- -------------------------------- 1.1/6.3 MB 3.9 MB/s eta 0:00:02\n",
      "   -------- ------------------------------- 1.4/6.3 MB 4.1 MB/s eta 0:00:02\n",
      "   --------- ------------------------------ 1.6/6.3 MB 4.2 MB/s eta 0:00:02\n",
      "   ------------ --------------------------- 1.9/6.3 MB 4.6 MB/s eta 0:00:01\n",
      "   ------------- -------------------------- 2.2/6.3 MB 4.7 MB/s eta 0:00:01\n",
      "   --------------- ------------------------ 2.4/6.3 MB 4.7 MB/s eta 0:00:01\n",
      "   ---------------- ----------------------- 2.7/6.3 MB 4.7 MB/s eta 0:00:01\n",
      "   ------------------ --------------------- 2.9/6.3 MB 4.9 MB/s eta 0:00:01\n",
      "   -------------------- ------------------- 3.2/6.3 MB 4.9 MB/s eta 0:00:01\n",
      "   --------------------- ------------------ 3.5/6.3 MB 5.0 MB/s eta 0:00:01\n",
      "   ----------------------- ---------------- 3.7/6.3 MB 5.0 MB/s eta 0:00:01\n",
      "   ------------------------- -------------- 4.0/6.3 MB 5.0 MB/s eta 0:00:01\n",
      "   -------------------------- ------------- 4.2/6.3 MB 5.1 MB/s eta 0:00:01\n",
      "   ---------------------------- ----------- 4.5/6.3 MB 5.1 MB/s eta 0:00:01\n",
      "   ------------------------------ --------- 4.7/6.3 MB 5.1 MB/s eta 0:00:01\n",
      "   ------------------------------- -------- 4.9/6.3 MB 5.1 MB/s eta 0:00:01\n",
      "   --------------------------------- ------ 5.3/6.3 MB 5.3 MB/s eta 0:00:01\n",
      "   ----------------------------------- ---- 5.5/6.3 MB 5.2 MB/s eta 0:00:01\n",
      "   ----------------------------------- ---- 5.6/6.3 MB 5.3 MB/s eta 0:00:01\n",
      "   ------------------------------------- -- 5.9/6.3 MB 5.2 MB/s eta 0:00:01\n",
      "   -------------------------------------- - 6.0/6.3 MB 5.0 MB/s eta 0:00:01\n",
      "   ---------------------------------------  6.3/6.3 MB 5.2 MB/s eta 0:00:01\n",
      "   ---------------------------------------  6.3/6.3 MB 5.2 MB/s eta 0:00:01\n",
      "   ---------------------------------------- 6.3/6.3 MB 4.8 MB/s eta 0:00:00\n",
      "Downloading mpmath-1.3.0-py3-none-any.whl (536 kB)\n",
      "   ---------------------------------------- 0.0/536.2 kB ? eta -:--:--\n",
      "   --------- ------------------------------ 122.9/536.2 kB 3.6 MB/s eta 0:00:01\n",
      "   ----------------------------- ---------- 399.4/536.2 kB 5.0 MB/s eta 0:00:01\n",
      "   ---------------------------------------- 536.2/536.2 kB 4.8 MB/s eta 0:00:00\n",
      "Installing collected packages: mpmath, sympy\n",
      "Successfully installed mpmath-1.3.0 sympy-1.14.0\n",
      "Note: you may need to restart the kernel to use updated packages.\n"
     ]
    },
    {
     "name": "stderr",
     "output_type": "stream",
     "text": [
      "  WARNING: The script isympy.exe is installed in 'c:\\Users\\HSILVA96\\AppData\\Local\\Programs\\Python\\Python312\\Scripts' which is not on PATH.\n",
      "  Consider adding this directory to PATH or, if you prefer to suppress this warning, use --no-warn-script-location.\n",
      "\n",
      "[notice] A new release of pip is available: 23.2.1 -> 25.1.1\n",
      "[notice] To update, run: python.exe -m pip install --upgrade pip\n"
     ]
    },
    {
     "name": "stdout",
     "output_type": "stream",
     "text": [
      "8*(2*x - 1)**3\n"
     ]
    }
   ],
   "source": [
    "%pip install sympy\n",
    "\n",
    "from sympy import symbols, diff\n",
    "\n",
    "# Define a variável simbólica\n",
    "x = symbols('x')\n",
    "\n",
    "# Define a função\n",
    "y = (2*x - 1)**4\n",
    "\n",
    "# Calcula a derivada de y em relação a x\n",
    "dy_dx = diff(y, x)\n",
    "\n",
    "print(dy_dx)\n"
   ]
  }
 ],
 "metadata": {
  "kernelspec": {
   "display_name": "Python 3",
   "language": "python",
   "name": "python3"
  },
  "language_info": {
   "codemirror_mode": {
    "name": "ipython",
    "version": 3
   },
   "file_extension": ".py",
   "mimetype": "text/x-python",
   "name": "python",
   "nbconvert_exporter": "python",
   "pygments_lexer": "ipython3",
   "version": "3.12.0"
  }
 },
 "nbformat": 4,
 "nbformat_minor": 5
}
